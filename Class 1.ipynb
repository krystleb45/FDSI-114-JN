{
 "cells": [
  {
   "cell_type": "code",
   "execution_count": 1,
   "id": "08fa4d67",
   "metadata": {},
   "outputs": [
    {
     "name": "stdout",
     "output_type": "stream",
     "text": [
      "h\n",
      "e\n",
      "l\n",
      "l\n",
      "o\n",
      " \n",
      "w\n",
      "o\n",
      "r\n",
      "l\n",
      "d\n",
      "!\n"
     ]
    }
   ],
   "source": [
    "for letter in \"hello world!\":\n",
    "    print(letter)"
   ]
  },
  {
   "cell_type": "markdown",
   "id": "46edd204",
   "metadata": {},
   "source": [
    "# Hey\n",
    ">How are you?\n",
    "* option 1\n",
    "* option 2\n",
    "* ....\n",
    "* option n"
   ]
  },
  {
   "cell_type": "markdown",
   "id": "24dd7028",
   "metadata": {},
   "source": [
    "# Problem 1\n",
    "###given two strings(string_a and string_b) let's check whether or not they are anagrams of each other  given the following critera: \n",
    ">Two strings are only anagrams of each other if all the conditions below are met:\n",
    "> * they must be exactly the same length. \n",
    "*They must use the same characters(no more, no less). \n",
    "\n",
    "Example: cars and scar, heart and earth, ect. "
   ]
  },
  {
   "cell_type": "code",
   "execution_count": 2,
   "id": "ec4af07a",
   "metadata": {},
   "outputs": [],
   "source": [
    "def is_anagram(string_a, string_b):# passing two arguments\n",
    "    if len(string_a) != len(string_b):   #checking if the length of string_a is the same as string_b\n",
    "        return False\n",
    "    char_times_a = dict()                 #Create 2 empty dictionaries. \n",
    "    char_times_b = dict()\n",
    "    for i in range(len(string_a)):         #we iterate over all the values from 0 to the length of string a. \n",
    "        if string_a[i] not in char_times_a.keys():   # check if we've seen the character at index 'i' in string a. \n",
    "            char_times_a[string_a[i]] = 1     # adding a 1 because we've seen it once\n",
    "        else:                               \n",
    "            char_times_a[string_a[i]] += 1  # if we've seen it once, add 1 everytime we see it again. \n",
    "        if string_b[i] not in char_times_b.keys():  # do the same for string b.\n",
    "            char_times_b[string_b[i]] = 1\n",
    "        else:\n",
    "            char_times_b[string_b[i]] += 1\n",
    "    return char_times_a == char_times_b      # check if char_times_a is exactly the same char_times_b    "
   ]
  },
  {
   "cell_type": "code",
   "execution_count": 18,
   "id": "8e732817",
   "metadata": {},
   "outputs": [
    {
     "data": {
      "text/plain": [
       "True"
      ]
     },
     "execution_count": 18,
     "metadata": {},
     "output_type": "execute_result"
    }
   ],
   "source": [
    "is_anagram(\"cars\", \"scar\")"
   ]
  },
  {
   "cell_type": "code",
   "execution_count": 21,
   "id": "44c14808",
   "metadata": {},
   "outputs": [
    {
     "data": {
      "text/plain": [
       "True"
      ]
     },
     "execution_count": 21,
     "metadata": {},
     "output_type": "execute_result"
    }
   ],
   "source": [
    "is_anagram(\"cars\", \"scar\")"
   ]
  },
  {
   "cell_type": "code",
   "execution_count": 27,
   "id": "adbaecae",
   "metadata": {},
   "outputs": [
    {
     "data": {
      "text/plain": [
       "False"
      ]
     },
     "execution_count": 27,
     "metadata": {},
     "output_type": "execute_result"
    }
   ],
   "source": [
    "is_anagram(\"I am lord Voldemort\", \"Tom Marvolo Riddle\")"
   ]
  },
  {
   "cell_type": "code",
   "execution_count": 26,
   "id": "8f235135",
   "metadata": {},
   "outputs": [],
   "source": [
    "class Stack: \n",
    "    def __init__(self):\n",
    "        self.items = []\n",
    "        \n",
    "    def is_empty(self):\n",
    "        return self.items == []\n",
    "    \n",
    "    def push(self, item):\n",
    "        self.items.append(item)\n",
    "        \n",
    "    def pop(self):\n",
    "        return self.items.pop()\n",
    "    \n",
    "    def peek(self):\n",
    "        return self.items[len(self.items)-1]\n",
    "    \n",
    "    def size(self):\n",
    "        return len(self.items)"
   ]
  },
  {
   "cell_type": "code",
   "execution_count": 8,
   "id": "e9b764ff",
   "metadata": {},
   "outputs": [
    {
     "data": {
      "text/plain": [
       "False"
      ]
     },
     "execution_count": 8,
     "metadata": {},
     "output_type": "execute_result"
    }
   ],
   "source": [
    "mystring = \"Krystle\"\n",
    "# what I want: \n",
    "mystring == \"eltsyrK\""
   ]
  },
  {
   "cell_type": "code",
   "execution_count": 9,
   "id": "af35c96b",
   "metadata": {},
   "outputs": [],
   "source": [
    "def reverse_str(mystring):\n",
    "    stack=Stack()\n",
    "    output = \"\"\n",
    "    for letter in mystring:\n",
    "        stack.push(letter)\n",
    "    while not stack.is_empty():\n",
    "        output += stack.pop()\n",
    "    return output"
   ]
  },
  {
   "cell_type": "code",
   "execution_count": 10,
   "id": "1e818888",
   "metadata": {},
   "outputs": [
    {
     "data": {
      "text/plain": [
       "'eltsyrK'"
      ]
     },
     "execution_count": 10,
     "metadata": {},
     "output_type": "execute_result"
    }
   ],
   "source": [
    "reverse_str(\"Krystle\")"
   ]
  },
  {
   "cell_type": "code",
   "execution_count": null,
   "id": "9688b2a1",
   "metadata": {},
   "outputs": [],
   "source": []
  }
 ],
 "metadata": {
  "kernelspec": {
   "display_name": "Python 3",
   "language": "python",
   "name": "python3"
  },
  "language_info": {
   "codemirror_mode": {
    "name": "ipython",
    "version": 3
   },
   "file_extension": ".py",
   "mimetype": "text/x-python",
   "name": "python",
   "nbconvert_exporter": "python",
   "pygments_lexer": "ipython3",
   "version": "3.8.8"
  }
 },
 "nbformat": 4,
 "nbformat_minor": 5
}
