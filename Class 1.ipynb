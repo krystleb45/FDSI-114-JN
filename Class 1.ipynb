{
 "cells": [
  {
   "cell_type": "code",
   "execution_count": 1,
   "id": "30d06f5b",
   "metadata": {},
   "outputs": [
    {
     "name": "stdout",
     "output_type": "stream",
     "text": [
      "h\n",
      "e\n",
      "l\n",
      "l\n",
      "o\n",
      " \n",
      "w\n",
      "o\n",
      "r\n",
      "l\n",
      "d\n",
      "!\n"
     ]
    }
   ],
   "source": [
    "for letter in \"hello world!\":\n",
    "    print(letter)"
   ]
  },
  {
   "cell_type": "markdown",
   "id": "d4740465",
   "metadata": {},
   "source": [
    "# Hey\n",
    ">How are you?\n",
    "* option 1\n",
    "* option 2\n",
    "* ....\n",
    "* option n"
   ]
  },
  {
   "cell_type": "markdown",
   "id": "09175403",
   "metadata": {},
   "source": [
    "# Problem 1\n",
    "###given two strings(string_a and string_b) let's check whether or not they are anagrams of each other  given the following critera: \n",
    ">Two strings are only anagrams of each other if all the conditions below are met:\n",
    "> * they must be exactly the same length. \n",
    "*They must use the same characters(no more, no less). \n",
    "\n",
    "Example: cars and scar, heart and earth, ect. "
   ]
  },
  {
   "cell_type": "code",
   "execution_count": 71,
   "id": "e35b96aa",
   "metadata": {},
   "outputs": [],
   "source": [
    "def is_anagram(string_a, string_b):       # passing two arguments \n",
    "    if len(string_a) != len(string_b):   #checking if the length of string_a is the same as string_b\n",
    "        return False\n",
    "    char_times_a = dict()                 #Create 2 empty dictionaries. \n",
    "    char_times_b = dict()\n",
    "    for i in range(len(string_a)):         #we iterate over all the values from 0 to the length of string a. \n",
    "        if string_a[i] not in char_times_a.keys():   # check if we've seen the character at index 'i' in string a. \n",
    "            char_times_a[string_a[i]] = 1     # adding a 1 because we've seen it once\n",
    "        else:                               \n",
    "            char_times_a[string_a[i]] += 1  # if we've seen it once, add 1 everytime we see it again. \n",
    "        if string_b[i] not in char_times_b.keys():  # do the same for string b.\n",
    "            char_times_b[string_b[i]] = 1\n",
    "        else:\n",
    "            char_times_b[string_b[i]] += 1\n",
    "    return char_times_a == char_times_b      # check if char_times_a is exactly the same char_times_b"
   ]
  },
  {
   "cell_type": "code",
   "execution_count": 72,
   "id": "ae5870b2",
   "metadata": {},
   "outputs": [
    {
     "data": {
      "text/plain": [
       "True"
      ]
     },
     "execution_count": 72,
     "metadata": {},
     "output_type": "execute_result"
    }
   ],
   "source": [
    "is_anagram(\"cars\", \"scar\")"
   ]
  },
  {
   "cell_type": "code",
   "execution_count": 73,
   "id": "117e8082",
   "metadata": {},
   "outputs": [
    {
     "data": {
      "text/plain": [
       "True"
      ]
     },
     "execution_count": 73,
     "metadata": {},
     "output_type": "execute_result"
    }
   ],
   "source": [
    "is_anagram(\"cars\", \"scar\")"
   ]
  },
  {
   "cell_type": "code",
   "execution_count": 74,
   "id": "ace64cd1",
   "metadata": {},
   "outputs": [
    {
     "data": {
      "text/plain": [
       "False"
      ]
     },
     "execution_count": 74,
     "metadata": {},
     "output_type": "execute_result"
    }
   ],
   "source": [
    "is_anagram(\"I am Lord Voldemort\", \"Tom Marvolo Riddle\")"
   ]
  },
  {
   "cell_type": "code",
   "execution_count": 61,
   "id": "7add4ebc",
   "metadata": {},
   "outputs": [],
   "source": [
    "class Stack: \n",
    "    def __init__(self):\n",
    "        self.items = []\n",
    "        \n",
    "    def is_empty(self):\n",
    "        return self.items == []\n",
    "    \n",
    "    def push(self, item):\n",
    "        self.items.append(item)\n",
    "        \n",
    "    def pop(self):\n",
    "        return self.items.pop()\n",
    "    \n",
    "    def peek(self):\n",
    "        return self.items[len(self.items)-1]\n",
    "    \n",
    "    def size(self):\n",
    "        return len(self.items)"
   ]
  },
  {
   "cell_type": "code",
   "execution_count": 68,
   "id": "64350771",
   "metadata": {},
   "outputs": [],
   "source": [
    "def is_anagram(str1, str2):\n",
    "\n",
    "\n",
    "    list1 = sorted([ i.upper() for i in str1 if i!= \" \"])\n",
    "    list2 = sorted([ i.upper() for i in str2 if i!= \" \"])\n",
    "\n",
    "    if list1 == list2:\n",
    "        print(\"is anagram\")\n",
    "    else:\n",
    "        print(\"is not anagram\")"
   ]
  },
  {
   "cell_type": "code",
   "execution_count": 69,
   "id": "1b5df0b2",
   "metadata": {},
   "outputs": [
    {
     "name": "stdout",
     "output_type": "stream",
     "text": [
      "is anagram\n"
     ]
    }
   ],
   "source": [
    "is_anagram(\"I am Lord Voldemort\", \"Tom Marvolo Riddle\")"
   ]
  },
  {
   "cell_type": "code",
   "execution_count": null,
   "id": "34641d5a",
   "metadata": {},
   "outputs": [],
   "source": []
  }
 ],
 "metadata": {
  "kernelspec": {
   "display_name": "Python 3",
   "language": "python",
   "name": "python3"
  },
  "language_info": {
   "codemirror_mode": {
    "name": "ipython",
    "version": 3
   },
   "file_extension": ".py",
   "mimetype": "text/x-python",
   "name": "python",
   "nbconvert_exporter": "python",
   "pygments_lexer": "ipython3",
   "version": "3.8.8"
  }
 },
 "nbformat": 4,
 "nbformat_minor": 5
}
