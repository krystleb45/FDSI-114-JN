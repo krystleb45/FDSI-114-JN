{
 "cells": [
  {
   "cell_type": "code",
   "execution_count": 6,
   "id": "a728bf85",
   "metadata": {},
   "outputs": [
    {
     "name": "stdout",
     "output_type": "stream",
     "text": [
      "1\n",
      "2\n",
      "--------------------------------------------------\n",
      "1\n",
      "2\n"
     ]
    }
   ],
   "source": [
    "stack = []\n",
    "stack2 = []\n",
    "\n",
    "print(1)\n",
    "print(2)\n",
    "        \n",
    "stack.append(1)\n",
    "stack.append(2)\n",
    "\n",
    "print (\"-\"*50)\n",
    "stack2.append(stack.pop())\n",
    "stack2.append(stack.pop())\n",
    "\n",
    "print(stack2.pop())\n",
    "print(stack2.pop())"
   ]
  },
  {
   "cell_type": "code",
   "execution_count": 3,
   "id": "70a2abc9",
   "metadata": {},
   "outputs": [],
   "source": [
    "def test():\n",
    "    q = Queue2Stacks()\n",
    "    for i in range(5):\n",
    "        q.engueue(i)\n",
    "    for i in range(5):\n",
    "        print(q.dequeue())"
   ]
  },
  {
   "cell_type": "code",
   "execution_count": 7,
   "id": "71e8ce85",
   "metadata": {},
   "outputs": [
    {
     "name": "stdout",
     "output_type": "stream",
     "text": [
      "1\n",
      "2\n"
     ]
    }
   ],
   "source": [
    "queue = []\n",
    "\n",
    "queue.insert(0, 1)\n",
    "queue.insert(0, 2)\n",
    "\n",
    "print(queue.pop())\n",
    "print(queue.pop())"
   ]
  },
  {
   "cell_type": "code",
   "execution_count": 11,
   "id": "841d0b84",
   "metadata": {},
   "outputs": [],
   "source": [
    "class Queue2Stacks: # implement a MyQueue class which implements a queue using two stacks\n",
    "    def __init__(self):\n",
    "        self.stack1 = [] #in stack\n",
    "        self.stack2 = [] # out stack\n",
    "    def enqueue(self, element):\n",
    "        self.stack1.append(element)\n",
    "    def dequeue(self):\n",
    "        if not self.stack2:\n",
    "            while self.stack1:\n",
    "                self.stack2.append(self.stack1.pop())\n",
    "                \n",
    "        return self.stack2.pop()"
   ]
  },
  {
   "cell_type": "code",
   "execution_count": 14,
   "id": "18746de8",
   "metadata": {},
   "outputs": [],
   "source": [
    "def test():\n",
    "    q = Queue2Stacks()\n",
    "    for i in range(5):\n",
    "        q.enqueue(i)\n",
    "    for i in range(5):\n",
    "        print(q.dequeue())"
   ]
  },
  {
   "cell_type": "code",
   "execution_count": 15,
   "id": "3c0242c0",
   "metadata": {},
   "outputs": [
    {
     "name": "stdout",
     "output_type": "stream",
     "text": [
      "0\n",
      "1\n",
      "2\n",
      "3\n",
      "4\n"
     ]
    }
   ],
   "source": [
    "test()"
   ]
  },
  {
   "cell_type": "code",
   "execution_count": 16,
   "id": "d2b3eb2c",
   "metadata": {},
   "outputs": [],
   "source": [
    "def factorial(n):\n",
    "    if n==0:\n",
    "        return 1\n",
    "    return n*factorial(n-1)"
   ]
  },
  {
   "cell_type": "code",
   "execution_count": 18,
   "id": "7cf95c16",
   "metadata": {},
   "outputs": [
    {
     "data": {
      "text/plain": [
       "3628800"
      ]
     },
     "execution_count": 18,
     "metadata": {},
     "output_type": "execute_result"
    }
   ],
   "source": [
    "factorial(10)"
   ]
  },
  {
   "cell_type": "code",
   "execution_count": 25,
   "id": "c164cd73",
   "metadata": {},
   "outputs": [],
   "source": [
    "from functools import lru_cache\n",
    "\n",
    "@lru_cache()\n",
    "\n",
    "def fib(n):\n",
    "    if n < 2:\n",
    "        return n\n",
    "    return fib(n-1) + fib(n-2)"
   ]
  },
  {
   "cell_type": "code",
   "execution_count": 24,
   "id": "e39a50e1",
   "metadata": {},
   "outputs": [
    {
     "data": {
      "text/plain": [
       "21"
      ]
     },
     "execution_count": 24,
     "metadata": {},
     "output_type": "execute_result"
    }
   ],
   "source": [
    "fib(8)"
   ]
  },
  {
   "cell_type": "code",
   "execution_count": 26,
   "id": "4599bdcb",
   "metadata": {},
   "outputs": [
    {
     "data": {
      "text/plain": [
       "354224848179261915075"
      ]
     },
     "execution_count": 26,
     "metadata": {},
     "output_type": "execute_result"
    }
   ],
   "source": [
    "fib(100)"
   ]
  },
  {
   "cell_type": "code",
   "execution_count": 3,
   "id": "f587057a",
   "metadata": {},
   "outputs": [],
   "source": [
    "class Node:\n",
    "    def __init__(self, data):\n",
    "        self.data = data\n",
    "        self.next = None"
   ]
  },
  {
   "cell_type": "code",
   "execution_count": 4,
   "id": "719399f6",
   "metadata": {},
   "outputs": [
    {
     "name": "stdout",
     "output_type": "stream",
     "text": [
      "A\n",
      "B\n",
      "C\n",
      "D\n",
      "E\n",
      "F\n",
      "G\n",
      "H\n",
      "I\n",
      "J\n",
      "K\n",
      "L\n",
      "M\n",
      "N\n",
      "O\n",
      "P\n",
      "Q\n",
      "R\n",
      "S\n",
      "T\n",
      "U\n",
      "V\n",
      "W\n",
      "X\n",
      "Y\n",
      "Z\n"
     ]
    }
   ],
   "source": [
    "head = None\n",
    "alphabet = \"ABCDEFGHIJKLMNOPQRSTUVWXYZ\"\n",
    "for letter in alphabet:\n",
    "    if not head:\n",
    "        head = Node(letter)\n",
    "    else:\n",
    "        current = head\n",
    "        while current.next:\n",
    "            current = current.next\n",
    "        \n",
    "        current.next = Node(letter)\n",
    "        \n",
    "        \n",
    "current = head\n",
    "while current:\n",
    "    print(current.data)\n",
    "    current = current.next"
   ]
  },
  {
   "cell_type": "code",
   "execution_count": 31,
   "id": "b1ddea7e",
   "metadata": {},
   "outputs": [
    {
     "name": "stdout",
     "output_type": "stream",
     "text": [
      "[4, 5]\n"
     ]
    }
   ],
   "source": [
    "mylist = []\n",
    "mylist.append (5)\n",
    "mylist.insert(0,4)\n",
    "print(mylist)"
   ]
  },
  {
   "cell_type": "code",
   "execution_count": null,
   "id": "3df371e0",
   "metadata": {},
   "outputs": [],
   "source": [
    "class Node:\n",
    "    def __init__(self, data):\n",
    "        self.data = data\n",
    "        self.next = None\n",
    "        \n",
    "class SinglyLinkedList:\n",
    "    def __init__(self):\n",
    "        self.head = None\n",
    "        \n",
    "    def insert(self, index, data):\n",
    "        #1)not make any assumptions that append operation has not been called prior to this. \n",
    "        if not self.head:\n",
    "            self.head = Node(data)\n",
    "            \n",
    "        elif index == 0:\n",
    "            new_node = Node(data)  #step 0: create a new node with data\n",
    "            temp = self.head       #step 1: create reference to current head \n",
    "            new_node.next = temp   #step: point our new_node's \"next\" to that ref\n",
    "            self.head = new_node   #step 3: set self.head to new_node\n",
    "        else:\n",
    "            current = self.head\n",
    "            counter = 0\n",
    "            while current.next and counter != index:\n",
    "                current = current.next\n",
    "                counter += 1\n",
    "            if not current.next:\n",
    "                current.next = Node(data)\n",
    "            else:\n",
    "                new_node = Node(data) \n",
    "                temp = current.next #step 1\n",
    "                current.next = new_node #step 2\n",
    "                new_node.next = temp #step 3\n",
    "                \n",
    "        \n",
    "        \n",
    "    def append(self, data):\n",
    "        if not self.head:\n",
    "            self.head = Node(data)\n",
    "        else:\n",
    "            current = self.head\n",
    "            while current.next:\n",
    "                current = current.next\n",
    "            current.next = Node(data)\n",
    "            \n",
    "    def __repr__(self):\n",
    "        out_str = \"\"\n",
    "        current = self.head\n",
    "        while current:\n",
    "            out_str += \"%s, \" % current.data\n",
    "            current = current.next\n",
    "        return \"[%s]\" % out_str\n",
    "    \n",
    "    def get_index(self, index):\n",
    "        counter = 0\n",
    "        current = self.head\n",
    "        while current and counter != index:\n",
    "            current = current.next\n",
    "            counter += 1\n",
    "        if counter != index:\n",
    "            raise IndexError(\"List index out of range\")\n",
    "        return current.data\n",
    "    \n",
    "    def remove(self, value):\n",
    "        found = False\n",
    "        if not self.head:\n",
    "            raise ValueError(\n",
    "                \"list.remove($s): %s is not in the list\" \n",
    "                % (value, value))\n",
    "        else:\n",
    "            if self.head.data == value:  # case 1\n",
    "                self.head = self.head.next\n",
    "                found = True\n",
    "            else:\n",
    "                current = self.head.next\n",
    "                prev = self.head\n",
    "                \n",
    "                while current and not found: \n",
    "                    if current.data == value:\n",
    "                        prev.next = current.next\n",
    "                        found = True\n",
    "                    prev = current\n",
    "                    current = current.next\n",
    "            if not found:\n",
    "                raise ValueError(\n",
    "                    \"list.remove($s): %s is not in the list\" \n",
    "                    % (value, value))\n",
    "                \n",
    "    def count(self, value):\n",
    "        current = self.head\n",
    "        count = 0\n",
    "        while current:\n",
    "            if current.data == value:\n",
    "                count += 1\n",
    "            current = current.next\n",
    "        return counter\n",
    "    \n",
    "    def index(self,value):\n",
    "        current = self.head\n",
    "        index = 0\n",
    "        while current:\n",
    "            if current.data == value:\n",
    "                return index\n",
    "            else:\n",
    "                index +=1\n",
    "                current = current.next\n",
    "        raise ValueError(\"value not found\")"
   ]
  },
  {
   "cell_type": "code",
   "execution_count": null,
   "id": "79952a13",
   "metadata": {},
   "outputs": [],
   "source": [
    "sll = SinglyLinkedList()\n",
    "\n",
    "for number in range (1, 101):\n",
    "    sll.append(number)\n",
    "#print(sll)\n",
    "print(sll.get_index(12))"
   ]
  },
  {
   "cell_type": "code",
   "execution_count": null,
   "id": "a2c9441f",
   "metadata": {},
   "outputs": [],
   "source": [
    "sll = SinglyLinkedList()\n",
    "\n",
    "for number in range(2, 20, 2):\n",
    "    sll.insert(0, number)\n",
    "\n",
    "print(\"\\nInsert value from 2 to 18 at index 0:\")\n",
    "print(sll)\n",
    "\n",
    "for letter in \"ABCDE\":\n",
    "    sll.insert(4, letter)\n",
    "\n",
    "print(\"\\nInsert letters from A to E at index 4:\")\n",
    "print(sll)\n",
    "\n",
    "for letter in \"ABCDE\":\n",
    "    sll.remove(letter)\n",
    "    \n",
    "print(\"\\nRemove letters from A to E (value):\")\n",
    "print(sll)\n",
    "\n",
    "sll.remove(18)\n",
    "\n",
    "print(\"\\nRemove current head:\")\n",
    "print(sll)\n",
    "\n",
    "print(sll.count(14))\n",
    "\n",
    "print(sll.index(4))"
   ]
  },
  {
   "cell_type": "code",
   "execution_count": null,
   "id": "904b3682",
   "metadata": {},
   "outputs": [],
   "source": []
  },
  {
   "cell_type": "code",
   "execution_count": null,
   "id": "f14e0b52",
   "metadata": {},
   "outputs": [],
   "source": []
  }
 ],
 "metadata": {
  "kernelspec": {
   "display_name": "Python 3",
   "language": "python",
   "name": "python3"
  },
  "language_info": {
   "codemirror_mode": {
    "name": "ipython",
    "version": 3
   },
   "file_extension": ".py",
   "mimetype": "text/x-python",
   "name": "python",
   "nbconvert_exporter": "python",
   "pygments_lexer": "ipython3",
   "version": "3.8.8"
  }
 },
 "nbformat": 4,
 "nbformat_minor": 5
}
