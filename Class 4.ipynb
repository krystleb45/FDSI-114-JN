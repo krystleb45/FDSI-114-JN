{
 "cells": [
  {
   "cell_type": "code",
   "execution_count": 1,
   "id": "93182483",
   "metadata": {},
   "outputs": [],
   "source": [
    "class DNode:\n",
    "    def __init__(self, data):\n",
    "        self.data = data\n",
    "        self.next = None\n",
    "        self.prev = None"
   ]
  },
  {
   "cell_type": "code",
   "execution_count": 3,
   "id": "d1dceef9",
   "metadata": {},
   "outputs": [],
   "source": [
    "class DoublyLinkedList:\n",
    "    def __init__(self):\n",
    "        self.head = None\n",
    "        \n",
    "    def append(self, data):\n",
    "        if not self.head:\n",
    "            self.head = DNode(data)\n",
    "        else:\n",
    "            current = self.head\n",
    "            while current.next:\n",
    "                current = current.next\n",
    "            new_node = DNode(data)\n",
    "            current.next = new_node\n",
    "            new_node.prev = current\n",
    "            \n",
    "    def insert(self, index, value):\n",
    "        if not self.head:\n",
    "            self.head = DNode(data)\n",
    "        elif index == 0:\n",
    "            new_node = DNode(data)\n",
    "            temp = self.head\n",
    "            new_node.next = temp\n",
    "            temp.prev = new_node\n",
    "            self.head = new_node\n",
    "        else:\n",
    "            new_node = DNode(data)\n",
    "            current = self.head\n",
    "            counter = 0\n",
    "            while current.next and counter != index:\n",
    "                current = current.next\n",
    "                counter =+ 1\n",
    "            if current.next:\n",
    "                temp = current.next\n",
    "                current.next = next_mode\n",
    "                new_node.next = temp\n",
    "                new_node.prev = current\n",
    "                temp.prev = new_node\n",
    "            else:\n",
    "                current.next = new_node\n",
    "                new_node.prev = current\n",
    "                \n",
    "                \n",
    "                \n",
    "                \n",
    "            "
   ]
  },
  {
   "cell_type": "code",
   "execution_count": 4,
   "id": "9a182de1",
   "metadata": {},
   "outputs": [
    {
     "data": {
      "text/plain": [
       "5"
      ]
     },
     "execution_count": 4,
     "metadata": {},
     "output_type": "execute_result"
    }
   ],
   "source": [
    "27 % 11"
   ]
  },
  {
   "cell_type": "code",
   "execution_count": 8,
   "id": "21fc7085",
   "metadata": {},
   "outputs": [],
   "source": [
    "class HashTable(object):\n",
    "    def __init__(self,size):\n",
    "        #set up size and slots and data\n",
    "        self.size = size\n",
    "        self.slots = [None] * self.size\n",
    "        self.data = [None] * self.size\n",
    "    def put(self,key,data):\n",
    "        \n",
    "    #Note, we'll only use integer keys for ease of use with the Hashfun citation\n",
    "    \n",
    "        #get the hash value\n",
    "        hashvalue = self.hashfunction(key,len(self.slots))\n",
    "        \n",
    "        #if slot is empty\n",
    "        if self.slots[hashvalue] == None:\n",
    "            self.slots[hashvalue] = key\n",
    "            self.data[hashvalue] = data\n",
    "        else:\n",
    "            #if key alrady exists, replace old value\n",
    "            if self.slots[hashvalue] ==key:\n",
    "                self.data[hashvalue] = data\n",
    "            #otherwise, find the next available slot\n",
    "            else:\n",
    "                nextslot = self.rehash(hashvalue,len(self.slots))\n",
    "                #Get to the next slot\n",
    "                while self.slots[nextslot] != None and self.slots[nextslot] != key:\n",
    "                    nextslot = self.rehash(nextslot,len(self.slots))\n",
    "                #set new key, if NONE\n",
    "                if self.slots[nextslot] == None:\n",
    "                    self.slots[nextslot]=key\n",
    "                    self.data[nextslot]=data\n",
    "                #otherwise replace old value\n",
    "                else:\n",
    "                    self.data[nextslot] = data\n",
    "        def hashfunction(self,key,size):\n",
    "            #remainder method\n",
    "            return key%size\n",
    "        \n",
    "        def rehash(self,oldhash,size):\n",
    "            #for finding next possible position\n",
    "            return (oldhash+1)%size\n",
    "        \n",
    "        def get(self,key):\n",
    "            #getting items given a key\n",
    "            #set up variables for our search\n",
    "            startslot = self.hashfunction(key,len(self.slots))\n",
    "            data = None\n",
    "            stop = False\n",
    "            found = False\n",
    "            position = startslot\n",
    "            \n",
    "        #until we discern that its not empty or found (and haven't stopped yet)\n",
    "            while self.slots[position] != None and not found and not stop:\n",
    "                if self.slots[position] == key:\n",
    "                    found = True\n",
    "                    data = self.data[position]\n",
    "                else:\n",
    "                    position=self.rehash(position,len(self.slots))\n",
    "                    if position == startslot:\n",
    "                        stop = True\n",
    "            return data\n",
    "        \n",
    "        #special methods for use with python indexing\n",
    "        def __getitem__(self,key):\n",
    "            return self.get(key)\n",
    "        \n",
    "        def __setitem__(self,key,data):\n",
    "            self.put(key,data)"
   ]
  },
  {
   "cell_type": "code",
   "execution_count": null,
   "id": "4a1c787a",
   "metadata": {},
   "outputs": [],
   "source": []
  }
 ],
 "metadata": {
  "kernelspec": {
   "display_name": "Python 3",
   "language": "python",
   "name": "python3"
  },
  "language_info": {
   "codemirror_mode": {
    "name": "ipython",
    "version": 3
   },
   "file_extension": ".py",
   "mimetype": "text/x-python",
   "name": "python",
   "nbconvert_exporter": "python",
   "pygments_lexer": "ipython3",
   "version": "3.8.8"
  }
 },
 "nbformat": 4,
 "nbformat_minor": 5
}
